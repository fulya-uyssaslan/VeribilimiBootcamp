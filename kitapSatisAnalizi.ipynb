{
 "cells": [
  {
   "cell_type": "code",
   "execution_count": 1,
   "id": "009643d4",
   "metadata": {},
   "outputs": [],
   "source": [
    "kitaplar = [\n",
    " {\"isim\": \"Veri Bilimi 101\", \"yazar\": \"Ali\", \"tur\": \"Bilim\", \"satis\": 1200, \"yil\": 2021},\n",
    " {\"isim\": \"Python ile Yapay Zeka\", \"yazar\": \"Ayşe\", \"tur\": \"Bilim\", \"satis\": 950, \"yil\":\n",
    "2020},\n",
    " {\"isim\": \"İstatistik Temelleri\", \"yazar\": \"Ali\", \"tur\": \"Akademik\", \"satis\": 700, \"yil\": 2019},\n",
    " {\"isim\": \"Makine Öğrenmesi\", \"yazar\": \"Can\", \"tur\": \"Bilim\", \"satis\": 1800, \"yil\": 2022},\n",
    " {\"isim\": \"Veri Görselleştirme\", \"yazar\": \"Deniz\", \"tur\": \"Sanat\", \"satis\": 400, \"yil\": 2018},\n",
    " {\"isim\": \"Matematiksel Modelleme\", \"yazar\": \"Ali\", \"tur\": \"Akademik\", \"satis\": 1500,\n",
    "\"yil\": 2021},\n",
    " {\"isim\": \"Bilgi Toplumu\", \"yazar\": \"Ayşe\", \"tur\": \"Sosyal\", \"satis\": 600, \"yil\": 2022}\n",
    "]\n"
   ]
  },
  {
   "cell_type": "markdown",
   "id": "0df106c1",
   "metadata": {},
   "source": [
    "1- Fonksiyon Yazma:\n",
    "o en_cok_satan(kitaplar) → En çok satan kitabın bilgilerini döndürsün.\n",
    "o yazar_satislari(kitaplar) → Her yazarın toplam satışını bir sözlük olarak\n",
    "döndürsün."
   ]
  },
  {
   "cell_type": "code",
   "execution_count": 4,
   "id": "a8654b68",
   "metadata": {},
   "outputs": [],
   "source": [
    "def en_cok_satan(kitaplar) -> dict:\n",
    "\t# En çok satan kitabı bul\n",
    "\treturn max(kitaplar, key=lambda x: x['satis'])"
   ]
  },
  {
   "cell_type": "code",
   "execution_count": 5,
   "id": "9bacf78c",
   "metadata": {},
   "outputs": [
    {
     "name": "stdout",
     "output_type": "stream",
     "text": [
      "En çok satan kitap: {'isim': 'Makine Öğrenmesi', 'yazar': 'Can', 'tur': 'Bilim', 'satis': 1800, 'yil': 2022}\n"
     ]
    }
   ],
   "source": [
    "print(\"En çok satan kitap:\", en_cok_satan(kitaplar))"
   ]
  },
  {
   "cell_type": "code",
   "execution_count": 6,
   "id": "b7c9549d",
   "metadata": {},
   "outputs": [],
   "source": [
    "yazar_satislari = {}\n",
    "for kitap in kitaplar:  \n",
    "    yazar = kitap['yazar']\n",
    "    satis = kitap['satis']\n",
    "    if yazar in yazar_satislari:\n",
    "        yazar_satislari[yazar] += satis\n",
    "    else:\n",
    "        yazar_satislari[yazar] = satis"
   ]
  },
  {
   "cell_type": "code",
   "execution_count": 7,
   "id": "63a61ea0",
   "metadata": {},
   "outputs": [
    {
     "data": {
      "text/plain": [
       "{'Ali': 3400, 'Ayşe': 1550, 'Can': 1800, 'Deniz': 400}"
      ]
     },
     "execution_count": 7,
     "metadata": {},
     "output_type": "execute_result"
    }
   ],
   "source": [
    "yazar_satislari"
   ]
  },
  {
   "cell_type": "markdown",
   "id": "94839817",
   "metadata": {},
   "source": [
    "Liste ve Küme İşlemleri:\n",
    "o Tüm kitap türlerini (tur) küme halinde çıkarın (tekrar eden türler olmadan).\n",
    "o Satış adedi 1000’den fazla olan kitapların isimlerini bir listede toplayın"
   ]
  },
  {
   "cell_type": "code",
   "execution_count": 8,
   "id": "ab472e26",
   "metadata": {},
   "outputs": [],
   "source": [
    "kitap_turleri = set(kitap['tur'] for kitap in kitaplar)\n",
    "kitap_turleri_listesi = list(kitap_turleri)     "
   ]
  },
  {
   "cell_type": "code",
   "execution_count": 9,
   "id": "f12cd257",
   "metadata": {},
   "outputs": [
    {
     "data": {
      "text/plain": [
       "['Sanat', 'Sosyal', 'Akademik', 'Bilim']"
      ]
     },
     "execution_count": 9,
     "metadata": {},
     "output_type": "execute_result"
    }
   ],
   "source": [
    "kitap_turleri_listesi"
   ]
  },
  {
   "cell_type": "code",
   "execution_count": 10,
   "id": "fc088c6c",
   "metadata": {},
   "outputs": [
    {
     "name": "stdout",
     "output_type": "stream",
     "text": [
      "Satış adedi 1000’den fazla olan kitaplar: ['Veri Bilimi 101', 'Makine Öğrenmesi', 'Matematiksel Modelleme']\n"
     ]
    }
   ],
   "source": [
    "cok_satanlar = [kitap[\"isim\"] for kitap in kitaplar if kitap[\"satis\"] > 1000]\n",
    "print(\"Satış adedi 1000’den fazla olan kitaplar:\", cok_satanlar)\n"
   ]
  },
  {
   "cell_type": "markdown",
   "id": "62ac7ede",
   "metadata": {},
   "source": [
    "3- Lambda / Filter / Map Kullanımı: o filter ile 2020’den sonra çıkan kitapları süzün. o map ile tüm satış adetlerini %10 artırılmış şekilde yeni bir listeye aktarın. o sorted + lambda ile kitapları satış miktarına göre azalan şekilde sıralayın."
   ]
  },
  {
   "cell_type": "code",
   "execution_count": 11,
   "id": "c0448493",
   "metadata": {},
   "outputs": [
    {
     "name": "stdout",
     "output_type": "stream",
     "text": [
      "2020'den sonra çıkan kitaplar:\n",
      "- Veri Bilimi 101 (2021)\n",
      "- Makine Öğrenmesi (2022)\n",
      "- Matematiksel Modelleme (2021)\n",
      "- Bilgi Toplumu (2022)\n"
     ]
    }
   ],
   "source": [
    "kitaplar_2020_sonrasi = list(filter(lambda k: k[\"yil\"] > 2020, kitaplar))\n",
    "print(\"2020'den sonra çıkan kitaplar:\")\n",
    "for kitap in kitaplar_2020_sonrasi:\n",
    "    print(f\"- {kitap['isim']} ({kitap['yil']})\")\n"
   ]
  },
  {
   "cell_type": "code",
   "execution_count": 12,
   "id": "ecf1f1de",
   "metadata": {},
   "outputs": [
    {
     "name": "stdout",
     "output_type": "stream",
     "text": [
      "Satış adetleri %10 artırılmış liste: [1320.0, 1045.0, 770.0000000000001, 1980.0000000000002, 440.00000000000006, 1650.0000000000002, 660.0]\n"
     ]
    }
   ],
   "source": [
    "satis_artirilmis = list(map(lambda k: k[\"satis\"] * 1.10, kitaplar))\n",
    "print(\"Satış adetleri %10 artırılmış liste:\", satis_artirilmis)\n"
   ]
  },
  {
   "cell_type": "code",
   "execution_count": 13,
   "id": "da4200f8",
   "metadata": {},
   "outputs": [
    {
     "name": "stdout",
     "output_type": "stream",
     "text": [
      "Kitaplar satış miktarına göre azalan sıralama:\n",
      "- Makine Öğrenmesi: 1800\n",
      "- Matematiksel Modelleme: 1500\n",
      "- Veri Bilimi 101: 1200\n",
      "- Python ile Yapay Zeka: 950\n",
      "- İstatistik Temelleri: 700\n",
      "- Bilgi Toplumu: 600\n",
      "- Veri Görselleştirme: 400\n"
     ]
    }
   ],
   "source": [
    "sirali_kitaplar = sorted(kitaplar, key=lambda k: k[\"satis\"], reverse=True)\n",
    "print(\"Kitaplar satış miktarına göre azalan sıralama:\")\n",
    "for kitap in sirali_kitaplar:\n",
    "    print(f\"- {kitap['isim']}: {kitap['satis']}\")\n"
   ]
  },
  {
   "cell_type": "markdown",
   "id": "118ea46f",
   "metadata": {},
   "source": [
    "4- statistiksel Analiz:\n",
    "o Ortalama satış adedini bulun.\n",
    "o En çok satış yapan türü bulun.\n",
    "o Satışların standart sapmasını hesaplamak için statistics modülünü kullanın"
   ]
  },
  {
   "cell_type": "code",
   "execution_count": 18,
   "id": "b95bc4cc",
   "metadata": {},
   "outputs": [
    {
     "name": "stdout",
     "output_type": "stream",
     "text": [
      "Ortalama satış adedi: 1021.43\n"
     ]
    }
   ],
   "source": [
    "satislar = [kitap[\"satis\"] for kitap in kitaplar]\n",
    "ortalama_satis = sum(satislar) / len(satislar)\n",
    "ortalama_satis = round(ortalama_satis, 2)\n",
    "print(\"Ortalama satış adedi:\", ortalama_satis)\n"
   ]
  },
  {
   "cell_type": "code",
   "execution_count": 19,
   "id": "992dc025",
   "metadata": {},
   "outputs": [
    {
     "name": "stdout",
     "output_type": "stream",
     "text": [
      "En çok satış yapan tür: Bilim\n"
     ]
    }
   ],
   "source": [
    "en_çok_satan_tur = max(set(kitap[\"tur\"] for kitap in kitaplar), key=lambda t: sum(kitap[\"satis\"] for kitap in kitaplar if kitap[\"tur\"] == t))\n",
    "print(\"En çok satış yapan tür:\", en_çok_satan_tur)"
   ]
  },
  {
   "cell_type": "code",
   "execution_count": 22,
   "id": "e2dc2c58",
   "metadata": {},
   "outputs": [
    {
     "name": "stdout",
     "output_type": "stream",
     "text": [
      "Satışların standart sapması: 506.51\n"
     ]
    }
   ],
   "source": [
    "import statistics\n",
    "std_sapma = statistics.stdev(satislar)\n",
    "std_sapma = round(std_sapma, 2)\n",
    "print(\"Satışların standart sapması:\", std_sapma)\n"
   ]
  },
  {
   "cell_type": "markdown",
   "id": "390e36e9",
   "metadata": {},
   "source": [
    "5-Ekstra (Zorlayıcı): Train/Test Simülasyonu\n",
    "o Kitap listesini rastgele %70 eğitim (train), %30 test verisine ayırın\n",
    "(random.sample).\n",
    "o Eğitim verisinden yazarların ortalama satışını hesaplayın.\n",
    "o Test verisinde, hangi kitapların satışlarının bu ortalamanın üzerinde olduğunu\n",
    "kontrol edin."
   ]
  },
  {
   "cell_type": "code",
   "execution_count": 24,
   "id": "9b7cc9b3",
   "metadata": {},
   "outputs": [],
   "source": [
    "import random\n",
    "random.seed(42)"
   ]
  },
  {
   "cell_type": "code",
   "execution_count": 25,
   "id": "6a159081",
   "metadata": {},
   "outputs": [],
   "source": [
    "\n",
    "train_size = int(len(kitaplar) * 0.7)\n",
    "train_set = random.sample(kitaplar, train_size)\n",
    "test_set = [kitap for kitap in kitaplar if kitap not in train_set]"
   ]
  },
  {
   "cell_type": "code",
   "execution_count": 27,
   "id": "56764fe2",
   "metadata": {},
   "outputs": [
    {
     "name": "stdout",
     "output_type": "stream",
     "text": [
      "Yazarların eğitim seti ortalama satışları:\n",
      "{'Ali': 1133.3333333333333, 'Ayşe': 600.0}\n"
     ]
    }
   ],
   "source": [
    "yazar_satis = {}\n",
    "yazar_kitap_sayisi = {}\n",
    "\n",
    "for kitap in train_set:\n",
    "    yazar = kitap[\"yazar\"]\n",
    "    satis = kitap[\"satis\"]\n",
    "    yazar_satis[yazar] = yazar_satis.get(yazar, 0) + satis\n",
    "    yazar_kitap_sayisi[yazar] = yazar_kitap_sayisi.get(yazar, 0) + 1\n",
    "\n",
    "yazar_ortalama = {yazar: yazar_satis[yazar] / yazar_kitap_sayisi[yazar] for yazar in yazar_satis}\n",
    "\n",
    "print(\"Yazarların eğitim seti ortalama satışları:\")\n",
    "print(yazar_ortalama)"
   ]
  },
  {
   "cell_type": "code",
   "execution_count": 28,
   "id": "6fac4f89",
   "metadata": {},
   "outputs": [
    {
     "name": "stdout",
     "output_type": "stream",
     "text": [
      "\n",
      "Test setinde ortalamanın üzerinde satış yapan kitaplar:\n",
      "- Python ile Yapay Zeka (Satış: 950, Yazar Ortalaması: 600.00)\n",
      "- Makine Öğrenmesi (Satış: 1800, Yazar Ortalaması: 0.00)\n",
      "- Veri Görselleştirme (Satış: 400, Yazar Ortalaması: 0.00)\n"
     ]
    }
   ],
   "source": [
    "print(\"\\nTest setinde ortalamanın üzerinde satış yapan kitaplar:\")\n",
    "for kitap in test_set:\n",
    "    yazar = kitap[\"yazar\"]\n",
    "    ortalama = yazar_ortalama.get(yazar, 0)\n",
    "    if kitap[\"satis\"] > ortalama:\n",
    "        print(f\"- {kitap['isim']} (Satış: {kitap['satis']}, Yazar Ortalaması: {ortalama:.2f})\")"
   ]
  }
 ],
 "metadata": {
  "kernelspec": {
   "display_name": "Python 3",
   "language": "python",
   "name": "python3"
  },
  "language_info": {
   "codemirror_mode": {
    "name": "ipython",
    "version": 3
   },
   "file_extension": ".py",
   "mimetype": "text/x-python",
   "name": "python",
   "nbconvert_exporter": "python",
   "pygments_lexer": "ipython3",
   "version": "3.13.1"
  }
 },
 "nbformat": 4,
 "nbformat_minor": 5
}
