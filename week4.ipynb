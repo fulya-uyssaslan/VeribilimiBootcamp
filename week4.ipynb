{
 "cells": [
  {
   "cell_type": "markdown",
   "id": "39a51835",
   "metadata": {},
   "source": [
    "Numpy Bölümü\n",
    "Aşağıdaki adımları uygulayın:\n",
    "1.\t1. Numpy ile Matris İşlemleri\n",
    "- 5x5 boyutunda rastgele (0-100 arasında) tam sayılardan oluşan bir matris oluşturun.\n",
    "- Bu matrisin:\n",
    "  • Ortalama, standart sapma ve varyansını hesaplayın.\n",
    "  • En büyük ve en küçük değerlerini bulun.\n",
    "  • Köşegenindeki elemanların toplamını bulun.\n"
   ]
  },
  {
   "cell_type": "code",
   "execution_count": 1,
   "id": "c8ff4e00",
   "metadata": {},
   "outputs": [],
   "source": [
    "import numpy as np\n",
    "import matplotlib.pyplot as plt\n",
    "import pandas as pd"
   ]
  },
  {
   "cell_type": "code",
   "execution_count": 3,
   "id": "243ab320",
   "metadata": {},
   "outputs": [
    {
     "name": "stdout",
     "output_type": "stream",
     "text": [
      "[[ 5 61 90 95 45]\n",
      " [83 40 22 65  9]\n",
      " [48 76 55 68 22]\n",
      " [83 77 58 74 47]\n",
      " [ 4 76 28  9 14]]\n"
     ]
    }
   ],
   "source": [
    "matris = np.random.randint(1,100,size=(5,5))\n",
    "print(matris)"
   ]
  },
  {
   "cell_type": "code",
   "execution_count": 4,
   "id": "895c0751",
   "metadata": {},
   "outputs": [
    {
     "name": "stdout",
     "output_type": "stream",
     "text": [
      "Ortalama: 50.16\n"
     ]
    }
   ],
   "source": [
    "ortalama = np.mean(matris)\n",
    "print(\"Ortalama:\", ortalama)"
   ]
  },
  {
   "cell_type": "code",
   "execution_count": 6,
   "id": "bef3706d",
   "metadata": {},
   "outputs": [
    {
     "name": "stdout",
     "output_type": "stream",
     "text": [
      "Standart Sapma: 28.43\n"
     ]
    }
   ],
   "source": [
    "s_sapma= np.std(matris).round(2)\n",
    "print(\"Standart Sapma:\", s_sapma)"
   ]
  },
  {
   "cell_type": "code",
   "execution_count": 7,
   "id": "55a46f28",
   "metadata": {},
   "outputs": [
    {
     "name": "stdout",
     "output_type": "stream",
     "text": [
      "Varyans: 808.29\n"
     ]
    }
   ],
   "source": [
    "varyans= np.var(matris).round(2)\n",
    "print(\"Varyans:\", varyans)"
   ]
  },
  {
   "cell_type": "code",
   "execution_count": 8,
   "id": "0cc38ee7",
   "metadata": {},
   "outputs": [
    {
     "name": "stdout",
     "output_type": "stream",
     "text": [
      "Maksimum Değer: 95\n"
     ]
    }
   ],
   "source": [
    "max_value= np.max(matris)\n",
    "print(\"Maksimum Değer:\", max_value)"
   ]
  },
  {
   "cell_type": "code",
   "execution_count": 9,
   "id": "013c6786",
   "metadata": {},
   "outputs": [
    {
     "name": "stdout",
     "output_type": "stream",
     "text": [
      "Minimum Değer: 4\n"
     ]
    }
   ],
   "source": [
    "min_value= np.min(matris)\n",
    "print(\"Minimum Değer:\", min_value)"
   ]
  },
  {
   "cell_type": "code",
   "execution_count": 10,
   "id": "4d8e115b",
   "metadata": {},
   "outputs": [
    {
     "name": "stdout",
     "output_type": "stream",
     "text": [
      "Köşegen Elemanlar: [ 5 40 55 74 14]\n"
     ]
    }
   ],
   "source": [
    "kosegen= np.diag(matris)\n",
    "print(\"Köşegen Elemanlar:\", kosegen)"
   ]
  },
  {
   "cell_type": "code",
   "execution_count": 11,
   "id": "73dc9814",
   "metadata": {},
   "outputs": [
    {
     "name": "stdout",
     "output_type": "stream",
     "text": [
      "Köşegen Elemanlar Toplamı: 188\n"
     ]
    }
   ],
   "source": [
    "kosegen_toplam= np.trace(matris)\n",
    "print(\"Köşegen Elemanlar Toplamı:\", kosegen_toplam)"
   ]
  },
  {
   "cell_type": "markdown",
   "id": "374540ec",
   "metadata": {},
   "source": [
    "2.\t2. Numpy ile Veri Simülasyonu\n",
    "- 1000 adet öğrencinin sınav puanlarını (0-100 arası, normal dağılımdan gelen) simüle edin.\n",
    "- Ortalama, medyan ve standart sapmayı hesaplayın.\n",
    "- 50’den düşük alan kaç öğrenci olduğunu bulun.\n"
   ]
  },
  {
   "cell_type": "code",
   "execution_count": 12,
   "id": "168cda32",
   "metadata": {},
   "outputs": [],
   "source": [
    "sayilar = np.random.randint(1, 101, size=1000)"
   ]
  },
  {
   "cell_type": "code",
   "execution_count": 14,
   "id": "f3717dc6",
   "metadata": {},
   "outputs": [
    {
     "name": "stdout",
     "output_type": "stream",
     "text": [
      "Ortalama: 48.987\n"
     ]
    }
   ],
   "source": [
    "sayilar_mean = np.mean(sayilar)\n",
    "print(\"Ortalama:\", sayilar_mean)"
   ]
  },
  {
   "cell_type": "code",
   "execution_count": 15,
   "id": "2fded82f",
   "metadata": {},
   "outputs": [
    {
     "name": "stdout",
     "output_type": "stream",
     "text": [
      "Standart Sapma: 28.67\n"
     ]
    }
   ],
   "source": [
    "sayılar_std = np.std(sayilar).round(2)\n",
    "print(\"Standart Sapma:\", sayılar_std)"
   ]
  },
  {
   "cell_type": "code",
   "execution_count": 16,
   "id": "b308a46d",
   "metadata": {},
   "outputs": [
    {
     "name": "stdout",
     "output_type": "stream",
     "text": [
      "Medyan: 47.0\n"
     ]
    }
   ],
   "source": [
    "sayilar_medyan = np.median(sayilar)\n",
    "print(\"Medyan:\", sayilar_medyan)"
   ]
  },
  {
   "cell_type": "code",
   "execution_count": 17,
   "id": "521c8e84",
   "metadata": {},
   "outputs": [
    {
     "name": "stdout",
     "output_type": "stream",
     "text": [
      "Maksimum Değer: 100\n",
      "Minimum Değer: 1\n"
     ]
    }
   ],
   "source": [
    "sayilar_max = np.max(sayilar)\n",
    "print(\"Maksimum Değer:\", sayilar_max)\n",
    "sayilar_min = np.min(sayilar)\n",
    "print(\"Minimum Değer:\", sayilar_min)"
   ]
  },
  {
   "cell_type": "code",
   "execution_count": 21,
   "id": "31f5c461",
   "metadata": {},
   "outputs": [
    {
     "data": {
      "image/png": "[encoded data removed]",
      "text/plain": [
       "<Figure size 640x480 with 1 Axes>"
      ]
     },
     "metadata": {},
     "output_type": "display_data"
    }
   ],
   "source": [
    "plt.hist(sayilar, bins=40, edgecolor='black')\n",
    "plt.show()"
   ]
  },
  {
   "cell_type": "code",
   "execution_count": 24,
   "id": "47fb26f4",
   "metadata": {},
   "outputs": [
    {
     "name": "stdout",
     "output_type": "stream",
     "text": [
      "50'den düşük not alan öğrenci sayisi: 519\n"
     ]
    }
   ],
   "source": [
    "sayilar_elli_kücük = len(sayilar[sayilar < 50])\n",
    "print(\"50'den düşük not alan öğrenci sayisi:\", sayilar_elli_kücük)"
   ]
  },
  {
   "cell_type": "markdown",
   "id": "8cf1fd13",
   "metadata": {},
   "source": [
    "•\tGörevler:\n",
    "3.\t1. Veri setini Pandas DataFrame olarak oluşturun.\n",
    "4.\t2. Her ders için ortalama puanı bulun.\n",
    "5.\t3. En yüksek matematik notunu alan öğrenciyi bulun.\n",
    "6.\t4. Her öğrencinin not ortalamasını hesaplayan yeni bir sütun ekleyin.\n",
    "7.\t5. Bölümlere göre gruplayarak her bölümün ortalama başarılarını hesaplayın.\n",
    "8.\t6. Ortalaması 70’in üzerinde olan öğrencileri filtreleyin.\n"
   ]
  },
  {
   "cell_type": "code",
   "execution_count": 25,
   "id": "f4234194",
   "metadata": {},
   "outputs": [],
   "source": [
    "veri = {\n",
    "    \"Öğrenci\": [\"Ali\", \"Ayşe\", \"Mehmet\", \"Zeynep\", \"Ahmet\"],\n",
    "    \"Yaş\": [20, 21, 19, 22, 20],\n",
    "    \"Bölüm\": [\"Bilgisayar\", \"Fizik\", \"Kimya\", \"Bilgisayar\", \"Fizik\"],\n",
    "    \"Matematik\": [70, 60, 80, 90, 55],\n",
    "    \"Fizik\": [65, 75, 70, 85, 60],\n",
    "    \"Kimya\": [80, 85, 65, 95, 70]\n",
    "}"
   ]
  },
  {
   "cell_type": "code",
   "execution_count": 26,
   "id": "d1f48e2a",
   "metadata": {},
   "outputs": [
    {
     "name": "stdout",
     "output_type": "stream",
     "text": [
      "  Öğrenci  Yaş       Bölüm  Matematik  Fizik  Kimya\n",
      "0     Ali   20  Bilgisayar         70     65     80\n",
      "1    Ayşe   21       Fizik         60     75     85\n",
      "2  Mehmet   19       Kimya         80     70     65\n",
      "3  Zeynep   22  Bilgisayar         90     85     95\n",
      "4   Ahmet   20       Fizik         55     60     70\n"
     ]
    }
   ],
   "source": [
    "df =pd.DataFrame(veri)\n",
    "print(df)"
   ]
  },
  {
   "cell_type": "code",
   "execution_count": 27,
   "id": "dcaf1fe6",
   "metadata": {},
   "outputs": [
    {
     "name": "stdout",
     "output_type": "stream",
     "text": [
      "Ortalama Ders Notları:\n",
      " Matematik    71.0\n",
      "Fizik        71.0\n",
      "Kimya        79.0\n",
      "dtype: float64\n"
     ]
    }
   ],
   "source": [
    "ortalama_ders_notlari = df[[\"Matematik\", \"Fizik\", \"Kimya\"]].mean()\n",
    "print(\"Ortalama Ders Notları:\\n\", ortalama_ders_notlari)    "
   ]
  },
  {
   "cell_type": "code",
   "execution_count": 29,
   "id": "f302d7df",
   "metadata": {},
   "outputs": [],
   "source": [
    "mat_yüksek = df[\"Matematik\"].max()"
   ]
  },
  {
   "cell_type": "code",
   "execution_count": 30,
   "id": "4d235581",
   "metadata": {},
   "outputs": [
    {
     "name": "stdout",
     "output_type": "stream",
     "text": [
      "Matematik Notu En Yüksek Öğrenci: Zeynep\n"
     ]
    }
   ],
   "source": [
    "max_mat_ogrenci = df[df[\"Matematik\"] == mat_yüksek][\"Öğrenci\"].values[0]\n",
    "print(\"Matematik Notu En Yüksek Öğrenci:\", max_mat_ogrenci)"
   ]
  },
  {
   "cell_type": "code",
   "execution_count": 31,
   "id": "c92a7fb2",
   "metadata": {},
   "outputs": [
    {
     "name": "stdout",
     "output_type": "stream",
     "text": [
      "  Öğrenci  Yaş       Bölüm  Matematik  Fizik  Kimya   Ortalama\n",
      "0     Ali   20  Bilgisayar         70     65     80  71.666667\n",
      "1    Ayşe   21       Fizik         60     75     85  73.333333\n",
      "2  Mehmet   19       Kimya         80     70     65  71.666667\n",
      "3  Zeynep   22  Bilgisayar         90     85     95  90.000000\n",
      "4   Ahmet   20       Fizik         55     60     70  61.666667\n"
     ]
    }
   ],
   "source": [
    "df['Ortalama'] = df[['Matematik', 'Fizik', 'Kimya']].mean(axis=1)\n",
    "print(df)"
   ]
  },
  {
   "cell_type": "code",
   "execution_count": 33,
   "id": "0f1374bf",
   "metadata": {},
   "outputs": [
    {
     "name": "stdout",
     "output_type": "stream",
     "text": [
      "Bölüm Bazında Ortalama Notlar:\n",
      "             Matematik  Fizik  Kimya\n",
      "Bölüm                              \n",
      "Bilgisayar       80.0   75.0   87.5\n",
      "Fizik            57.5   67.5   77.5\n",
      "Kimya            80.0   70.0   65.0\n"
     ]
    }
   ],
   "source": [
    "bolum_ortalama = df.groupby('Bölüm')[['Matematik', 'Fizik', 'Kimya']].mean()\n",
    "print(\"Bölüm Bazında Ortalama Notlar:\\n\", bolum_ortalama)\n"
   ]
  },
  {
   "cell_type": "code",
   "execution_count": 35,
   "id": "a61f6a87",
   "metadata": {},
   "outputs": [
    {
     "name": "stdout",
     "output_type": "stream",
     "text": [
      "Ortalama Notu 70'in Üzerinde Olan Öğrenciler): ['Ali', 'Ayşe', 'Mehmet', 'Zeynep']\n"
     ]
    }
   ],
   "source": [
    "yetmis_üzeri_not_ort = df[df['Ortalama'] > 70]['Öğrenci'].tolist()\n",
    "print(\"Ortalama Notu 70'in Üzerinde Olan Öğrenciler):\", yetmis_üzeri_not_ort)"
   ]
  },
  {
   "cell_type": "markdown",
   "id": "1b3916eb",
   "metadata": {},
   "source": [
    ". Ek Görev (Opsiyonel)\n",
    "- Matplotlib veya Seaborn kullanarak:\n",
    "  • Her dersin dağılımını histogram ile gösterin.\n",
    "  • Bölümlere göre ortalamaları bar grafikte görselleştirin.\n"
   ]
  },
  {
   "cell_type": "code",
   "execution_count": 39,
   "id": "42a4a0a6",
   "metadata": {},
   "outputs": [
    {
     "data": {
      "image/png": "[encoded data removed]",
      "text/plain": [
       "<Figure size 640x480 with 1 Axes>"
      ]
     },
     "metadata": {},
     "output_type": "display_data"
    }
   ],
   "source": [
    "plt.hist(df['Matematik'], bins=10, color='red', edgecolor='black')\n",
    "plt.show()"
   ]
  },
  {
   "cell_type": "code",
   "execution_count": 40,
   "id": "f31306a0",
   "metadata": {},
   "outputs": [
    {
     "data": {
      "text/plain": [
       "(array([1., 0., 1., 0., 1., 0., 1., 0., 0., 1.]),\n",
       " array([60. , 62.5, 65. , 67.5, 70. , 72.5, 75. , 77.5, 80. , 82.5, 85. ]),\n",
       " <BarContainer object of 10 artists>)"
      ]
     },
     "execution_count": 40,
     "metadata": {},
     "output_type": "execute_result"
    },
    {
     "data": {
      "image/png": "[encoded data removed]",
      "text/plain": [
       "<Figure size 640x480 with 1 Axes>"
      ]
     },
     "metadata": {},
     "output_type": "display_data"
    }
   ],
   "source": [
    "plt.hist(df['Fizik'], bins=10, color='green', edgecolor='black')"
   ]
  },
  {
   "cell_type": "code",
   "execution_count": 41,
   "id": "08c25573",
   "metadata": {},
   "outputs": [
    {
     "data": {
      "image/png": "[encoded data removed]",
      "text/plain": [
       "<Figure size 640x480 with 1 Axes>"
      ]
     },
     "metadata": {},
     "output_type": "display_data"
    }
   ],
   "source": [
    "plt.hist(df['Kimya'], bins=10, color='blue', edgecolor='black')\n",
    "plt.show()"
   ]
  },
  {
   "cell_type": "code",
   "execution_count": 36,
   "id": "2ca70844",
   "metadata": {},
   "outputs": [],
   "source": [
    "import seaborn as sbn"
   ]
  },
  {
   "cell_type": "code",
   "execution_count": 37,
   "id": "3336d27e",
   "metadata": {},
   "outputs": [
    {
     "data": {
      "image/png": "[encoded data removed]",
      "text/plain": [
       "<Figure size 1000x600 with 1 Axes>"
      ]
     },
     "metadata": {},
     "output_type": "display_data"
    }
   ],
   "source": [
    "bolum_ortalama = df.groupby('Bölüm')[['Matematik', 'Fizik', 'Kimya']].mean()\n",
    "bolum_ortalama.plot(kind='bar', figsize=(10,6), colormap='viridis')\n",
    "plt.show()"
   ]
  },
  {
   "cell_type": "code",
   "execution_count": null,
   "id": "99a1fbb3",
   "metadata": {},
   "outputs": [],
   "source": []
  }
 ],
 "metadata": {
  "kernelspec": {
   "display_name": "Python 3",
   "language": "python",
   "name": "python3"
  },
  "language_info": {
   "codemirror_mode": {
    "name": "ipython",
    "version": 3
   },
   "file_extension": ".py",
   "mimetype": "text/x-python",
   "name": "python",
   "nbconvert_exporter": "python",
   "pygments_lexer": "ipython3",
   "version": "3.13.1"
  }
 },
 "nbformat": 4,
 "nbformat_minor": 5
}
