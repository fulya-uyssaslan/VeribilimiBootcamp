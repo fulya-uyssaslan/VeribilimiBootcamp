{
 "cells": [
  {
   "cell_type": "markdown",
   "id": "d77995a4",
   "metadata": {},
   "source": [
    "Soru 1 – Liste Metotları\n",
    "Bir sınıfta öğrencilerin notları şu şekilde tutuluyor:\n",
    "notlar = [85, 92, 76, 92, 100, 76, 85, 92]\n",
    "• Listedeki tekrar eden notları silip benzersiz bir liste oluşturun.\n",
    "• En yüksek ve en düşük notu bulun.\n",
    "• Notları küçükten büyüğe sıralayın."
   ]
  },
  {
   "cell_type": "code",
   "execution_count": 2,
   "id": "19dcc7fd",
   "metadata": {},
   "outputs": [],
   "source": [
    "notlar = [85, 92, 76, 92, 100, 76, 85, 92]"
   ]
  },
  {
   "cell_type": "code",
   "execution_count": 3,
   "id": "869d14a4",
   "metadata": {},
   "outputs": [],
   "source": [
    "# Tekrar eden notları kaldırmak için set kullanıyoruz\n",
    "benzersiz_notlar = set(notlar)"
   ]
  },
  {
   "cell_type": "code",
   "execution_count": 4,
   "id": "c6a47914",
   "metadata": {},
   "outputs": [
    {
     "data": {
      "text/plain": [
       "{76, 85, 92, 100}"
      ]
     },
     "execution_count": 4,
     "metadata": {},
     "output_type": "execute_result"
    }
   ],
   "source": [
    "benzersiz_notlar\n"
   ]
  },
  {
   "cell_type": "code",
   "execution_count": 5,
   "id": "d157c837",
   "metadata": {},
   "outputs": [],
   "source": [
    "enYuksek_not = max(benzersiz_notlar)\n",
    "enDusuk_not = min(benzersiz_notlar)"
   ]
  },
  {
   "cell_type": "code",
   "execution_count": 7,
   "id": "64863aae",
   "metadata": {},
   "outputs": [
    {
     "data": {
      "text/plain": [
       "100"
      ]
     },
     "execution_count": 7,
     "metadata": {},
     "output_type": "execute_result"
    }
   ],
   "source": [
    "\n",
    "enYuksek_not"
   ]
  },
  {
   "cell_type": "code",
   "execution_count": 8,
   "id": "ae2a721f",
   "metadata": {},
   "outputs": [
    {
     "data": {
      "text/plain": [
       "76"
      ]
     },
     "execution_count": 8,
     "metadata": {},
     "output_type": "execute_result"
    }
   ],
   "source": [
    "enDusuk_not"
   ]
  },
  {
   "cell_type": "markdown",
   "id": "29c79cd5",
   "metadata": {},
   "source": [
    "Soru 2 – Sayılar\n",
    "Bir sayının Armstrong sayısı olup olmadığını kontrol eden bir Python fonksiyonu yazın.\n",
    "Armstrong sayısı: Her basamağının küplerinin toplamı kendisine eşit olan sayılar.\n",
    "Örn: 153 → 1³+5³+3³ = 153"
   ]
  },
  {
   "cell_type": "code",
   "execution_count": 11,
   "id": "4f18700a",
   "metadata": {},
   "outputs": [],
   "source": [
    "def armstrong_mu(sayi):\n",
    "    basamaklar = [int(rakam) for rakam in str(sayi)]\n",
    "    toplam = sum(rakam ** 3 for rakam in basamaklar)\n",
    "    return toplam == sayi\n"
   ]
  },
  {
   "cell_type": "code",
   "execution_count": 13,
   "id": "3c24a07c",
   "metadata": {},
   "outputs": [
    {
     "name": "stdout",
     "output_type": "stream",
     "text": [
      "140 bir Armstrong sayısı değildir.\n"
     ]
    }
   ],
   "source": [
    "sayi = 140\n",
    "if armstrong_mu(sayi):\n",
    "    print(f\"{sayi} bir Armstrong sayısıdır.\")\n",
    "else:\n",
    "    print(f\"{sayi} bir Armstrong sayısı değildir.\")\n"
   ]
  },
  {
   "cell_type": "markdown",
   "id": "8156c312",
   "metadata": {},
   "source": [
    "Soru 3 – Kümeler\n",
    "Aşağıdaki iki küme verilmiştir:\n",
    "A = {\"Python\", \"R\", \"SQL\", \"Java\"}\n",
    "B = {\"C++\", \"Python\", \"JavaScript\", \"SQL\"}\n",
    "• Ortak dilleri bulun.\n",
    "• Sadece A’da olan dilleri listeleyin.\n",
    "• İki kümenin birleşimini alfabetik olarak yazdırın."
   ]
  },
  {
   "cell_type": "code",
   "execution_count": 14,
   "id": "87d70f3c",
   "metadata": {},
   "outputs": [],
   "source": [
    "A = {\"Python\", \"R\", \"SQL\", \"Java\"}\n",
    "B = {\"C++\", \"Python\", \"JavaScript\", \"SQL\"}"
   ]
  },
  {
   "cell_type": "code",
   "execution_count": 15,
   "id": "f0e3b3c3",
   "metadata": {},
   "outputs": [
    {
     "data": {
      "text/plain": [
       "{'Python', 'SQL'}"
      ]
     },
     "execution_count": 15,
     "metadata": {},
     "output_type": "execute_result"
    }
   ],
   "source": [
    "ortak_diller = A.intersection(B)\n",
    "ortak_diller"
   ]
  },
  {
   "cell_type": "code",
   "execution_count": 16,
   "id": "82f2f0b7",
   "metadata": {},
   "outputs": [
    {
     "data": {
      "text/plain": [
       "{'Java', 'R'}"
      ]
     },
     "execution_count": 16,
     "metadata": {},
     "output_type": "execute_result"
    }
   ],
   "source": [
    "sadece_A = A.difference(B)\n",
    "sadece_A"
   ]
  },
  {
   "cell_type": "code",
   "execution_count": 17,
   "id": "040acf26",
   "metadata": {},
   "outputs": [
    {
     "data": {
      "text/plain": [
       "{'C++', 'Java', 'JavaScript', 'Python', 'R', 'SQL'}"
      ]
     },
     "execution_count": 17,
     "metadata": {},
     "output_type": "execute_result"
    }
   ],
   "source": [
    "birlesimi = A.union(B)\n",
    "birlesimi"
   ]
  },
  {
   "cell_type": "markdown",
   "id": "de41356f",
   "metadata": {},
   "source": [
    "Soru 4 – Modüller\n",
    "• random modülünü kullanarak 1–100 arasında 10 rastgele sayı üretin.\n",
    "• Bu sayıların ortalamasını ve standart sapmasını statistics modülü ile hesaplayın."
   ]
  },
  {
   "cell_type": "code",
   "execution_count": 18,
   "id": "f76fae97",
   "metadata": {},
   "outputs": [],
   "source": [
    "import random\n",
    "import statistics"
   ]
  },
  {
   "cell_type": "code",
   "execution_count": 20,
   "id": "d1a1e3ce",
   "metadata": {},
   "outputs": [
    {
     "data": {
      "text/plain": [
       "[68, 80, 28, 23, 75, 96, 27, 85, 15, 2]"
      ]
     },
     "execution_count": 20,
     "metadata": {},
     "output_type": "execute_result"
    }
   ],
   "source": [
    "sayilar= random.sample(range(1, 101), 10)\n",
    "sayilar"
   ]
  },
  {
   "cell_type": "code",
   "execution_count": 21,
   "id": "aa2f9e86",
   "metadata": {},
   "outputs": [],
   "source": [
    "ortalama = statistics.mean(sayilar)\n",
    "s_sapma = statistics.stdev(sayilar)"
   ]
  },
  {
   "cell_type": "code",
   "execution_count": 22,
   "id": "4100534d",
   "metadata": {},
   "outputs": [
    {
     "name": "stdout",
     "output_type": "stream",
     "text": [
      "Ortalama: 49.9, Standart Sapma: 34.092847082961875\n"
     ]
    }
   ],
   "source": [
    "print(f\"Ortalama: {ortalama}, Standart Sapma: {s_sapma}\")   "
   ]
  },
  {
   "cell_type": "markdown",
   "id": "d94da262",
   "metadata": {},
   "source": [
    "Soru 5 – Fonksiyonlar\n",
    "kelime_sayacı(metin) adında bir fonksiyon yazın.\n",
    "Fonksiyon verilen metindeki:\n",
    "• toplam kelime sayısını\n",
    "• en uzun kelimeyi\n",
    "• en sık geçen kelimeyi döndürsün."
   ]
  },
  {
   "cell_type": "code",
   "execution_count": 26,
   "id": "64220a84",
   "metadata": {},
   "outputs": [],
   "source": [
    "def Kelime_sayaci(metin):\n",
    "  \n",
    "    for char in \".,!?;:\":\n",
    "        metin = metin.replace(char, \"\")\n",
    "        \n",
    "    kelimeler = metin.lower().split()\n",
    "    \n",
    "    toplam_kelime = len(kelimeler)\n",
    "    en_uzun = max(kelimeler, key=len)\n",
    "    \n",
    "    # Sıklık hesabı\n",
    "    frekans = {}\n",
    "    for kelime in kelimeler:\n",
    "        frekans[kelime] = frekans.get(kelime, 0) + 1\n",
    "        \n",
    "    en_sik = max(frekans, key=frekans.get)\n",
    "    \n",
    "    return toplam_kelime, en_uzun, en_sik\n"
   ]
  },
  {
   "cell_type": "code",
   "execution_count": 27,
   "id": "6dfefce1",
   "metadata": {},
   "outputs": [
    {
     "data": {
      "text/plain": [
       "(20, 'zorundayım', 'akşam')"
      ]
     },
     "execution_count": 27,
     "metadata": {},
     "output_type": "execute_result"
    }
   ],
   "source": [
    "Kelime_sayaci(\" akşam akşam ödev yapıyorum ve evet çok yorgunum ama bir taraftan da yarın saabahın köründe dersim olduğu için yapmak zorundayım \")"
   ]
  },
  {
   "cell_type": "markdown",
   "id": "b73c04d0",
   "metadata": {},
   "source": [
    "Soru 6 – Gömülü Fonksiyonlar\n",
    "Aşağıdaki liste için map, filter, sorted gibi gömülü fonksiyonları kullanarak:\n",
    "sayilar = [5, 12, 7, 18, 24, 3, 16]\n",
    "• Sadece çift sayıları filtreleyin.\n",
    "• Bu sayıların karelerini bulun.\n",
    "• Karelerini azalan sırada sıralayın."
   ]
  },
  {
   "cell_type": "code",
   "execution_count": 28,
   "id": "3ac0a63e",
   "metadata": {},
   "outputs": [],
   "source": [
    "sayilar = [5, 12, 7, 18, 24, 3, 16]"
   ]
  },
  {
   "cell_type": "code",
   "execution_count": 29,
   "id": "e7af5a83",
   "metadata": {},
   "outputs": [
    {
     "name": "stdout",
     "output_type": "stream",
     "text": [
      "Çift sayılar: [12, 18, 24, 16]\n"
     ]
    }
   ],
   "source": [
    "cift_sayilar = list(filter(lambda x: x % 2 == 0, sayilar))\n",
    "print(\"Çift sayılar:\", cift_sayilar)\n"
   ]
  },
  {
   "cell_type": "code",
   "execution_count": 30,
   "id": "db2eb674",
   "metadata": {},
   "outputs": [
    {
     "name": "stdout",
     "output_type": "stream",
     "text": [
      "Kareleri: [144, 324, 576, 256]\n"
     ]
    }
   ],
   "source": [
    "kareler = list(map(lambda x: x**2, cift_sayilar))\n",
    "print(\"Kareleri:\", kareler)\n"
   ]
  },
  {
   "cell_type": "code",
   "execution_count": 31,
   "id": "0aa3e279",
   "metadata": {},
   "outputs": [
    {
     "name": "stdout",
     "output_type": "stream",
     "text": [
      "Azalan sıralı kareler: [576, 324, 256, 144]\n"
     ]
    }
   ],
   "source": [
    "sirali_kareler = sorted(kareler, reverse=True)\n",
    "print(\"Azalan sıralı kareler:\", sirali_kareler)\n"
   ]
  },
  {
   "cell_type": "markdown",
   "id": "a74fb9cb",
   "metadata": {},
   "source": [
    "Soru 7 – Lambda İfadeleri\n",
    "Aşağıdaki listeyi, her kelimenin uzunluğuna göre küçükten büyüğe sıralayın.\n",
    "kelimeler = [\"veri\", \"bilim\", \"analiz\", \"yapayzeka\", \"python\"]\n",
    "Bunu sorted + lambda ile yapın."
   ]
  },
  {
   "cell_type": "code",
   "execution_count": 32,
   "id": "4edd8ec2",
   "metadata": {},
   "outputs": [],
   "source": [
    "kelimeler = [\"veri\", \"bilim\", \"analiz\", \"yapayzeka\", \"python\"]"
   ]
  },
  {
   "cell_type": "code",
   "execution_count": 34,
   "id": "125d4cca",
   "metadata": {},
   "outputs": [
    {
     "name": "stdout",
     "output_type": "stream",
     "text": [
      "['veri', 'bilim', 'analiz', 'python', 'yapayzeka']\n"
     ]
    }
   ],
   "source": [
    "Kelime_uzunlugu = sorted(kelimeler, key=lambda kelime: len(kelime))\n",
    "print(Kelime_uzunlugu)\n"
   ]
  },
  {
   "cell_type": "markdown",
   "id": "04de2d04",
   "metadata": {},
   "source": [
    "Soru 8 – Metodlar\n",
    "Bir string içinde geçen tüm rakamları bulun ve bunların toplamını döndüren bir fonksiyon\n",
    "yazın.\n",
    "Örn: \"abc12def3\" → 12 + 3 = 15"
   ]
  },
  {
   "cell_type": "code",
   "execution_count": 35,
   "id": "014b2b4e",
   "metadata": {},
   "outputs": [],
   "source": [
    "string_ifade= \"abc12def3\""
   ]
  },
  {
   "cell_type": "code",
   "execution_count": 37,
   "id": "2295c61b",
   "metadata": {},
   "outputs": [
    {
     "data": {
      "text/plain": [
       "15"
      ]
     },
     "execution_count": 37,
     "metadata": {},
     "output_type": "execute_result"
    }
   ],
   "source": [
    "import re\n",
    "\n",
    "def rakam_toplami(metin):\n",
    "    sayilar = re.findall(r'\\d+', metin)\n",
    "    return sum(int(sayi) for sayi in sayilar)\n",
    "rakam_toplami(string_ifade)\n"
   ]
  },
  {
   "cell_type": "markdown",
   "id": "1c10d491",
   "metadata": {},
   "source": [
    "Soru 9 – (Ekstra) Numpy 1\n",
    "10 elemanlı bir numpy dizisi oluşturun.\n",
    "• Elemanlar 0–50 arasında rastgele sayılar olsun.\n",
    "• Dizinin ortalamasını, standart sapmasını ve en büyük değerini bulun"
   ]
  },
  {
   "cell_type": "code",
   "execution_count": 39,
   "id": "98cb0f58",
   "metadata": {},
   "outputs": [],
   "source": [
    "import numpy as np\n",
    "dizi = np.array([36, 15, 2, 28, 17, 11, 44, 17,29,47])"
   ]
  },
  {
   "cell_type": "code",
   "execution_count": 46,
   "id": "4034b704",
   "metadata": {},
   "outputs": [
    {
     "name": "stdout",
     "output_type": "stream",
     "text": [
      "Ortalama: 24.6, Standart Sapma: 13.94, Maksimum Değer: 47\n"
     ]
    }
   ],
   "source": [
    "ortalama= np.mean(dizi)\n",
    "s_sapma= np.std(dizi).round(2)  \n",
    "max_deger= np.max(dizi)\n",
    "\n",
    "print(f\"Ortalama: {ortalama}, Standart Sapma: {s_sapma}, Maksimum Değer: {max_deger}\")"
   ]
  },
  {
   "cell_type": "markdown",
   "id": "de96667b",
   "metadata": {},
   "source": [
    "Soru 10 – (Ekstra) Numpy 2\n",
    "5x5 boyutunda rastgele 0–1 arasında değerlerden oluşan bir numpy matrisi üretin.\n",
    "• Her sütunun ortalamasını bulun.\n",
    "• 0.5’ten büyük olan değerleri 1, küçük eşit olanları 0 yaparak binary matris oluşturun"
   ]
  },
  {
   "cell_type": "code",
   "execution_count": 47,
   "id": "fbb23eb6",
   "metadata": {},
   "outputs": [
    {
     "name": "stdout",
     "output_type": "stream",
     "text": [
      "Orijinal Matris:\n",
      " [[0.50194669 0.28490454 0.13052448 0.83129743 0.58819853]\n",
      " [0.82326491 0.69271867 0.31384586 0.55067129 0.704439  ]\n",
      " [0.45255868 0.7371271  0.35884385 0.97897487 0.45936318]\n",
      " [0.56033883 0.99547822 0.29873725 0.2486109  0.81948931]\n",
      " [0.57722494 0.51382033 0.99491049 0.29807897 0.04106557]]\n"
     ]
    }
   ],
   "source": [
    "matris = np.random.rand(5, 5)\n",
    "print(\"Orijinal Matris:\\n\", matris)\n"
   ]
  },
  {
   "cell_type": "code",
   "execution_count": 48,
   "id": "b9e20b72",
   "metadata": {},
   "outputs": [
    {
     "name": "stdout",
     "output_type": "stream",
     "text": [
      "Sütun Ortalamaları:\n",
      " [0.58306681 0.64480977 0.41937239 0.58152669 0.52251112]\n"
     ]
    }
   ],
   "source": [
    "sutun_ortalamalari = np.mean(matris, axis=0)\n",
    "print(\"Sütun Ortalamaları:\\n\", sutun_ortalamalari)\n"
   ]
  },
  {
   "cell_type": "code",
   "execution_count": 49,
   "id": "c8fbb006",
   "metadata": {},
   "outputs": [
    {
     "name": "stdout",
     "output_type": "stream",
     "text": [
      "Binary Matris:\n",
      " [[1 0 0 1 1]\n",
      " [1 1 0 1 1]\n",
      " [0 1 0 1 0]\n",
      " [1 1 0 0 1]\n",
      " [1 1 1 0 0]]\n"
     ]
    }
   ],
   "source": [
    "binary_matris = (matris > 0.5).astype(int)\n",
    "print(\"Binary Matris:\\n\", binary_matris)\n"
   ]
  }
 ],
 "metadata": {
  "kernelspec": {
   "display_name": "Python 3",
   "language": "python",
   "name": "python3"
  },
  "language_info": {
   "codemirror_mode": {
    "name": "ipython",
    "version": 3
   },
   "file_extension": ".py",
   "mimetype": "text/x-python",
   "name": "python",
   "nbconvert_exporter": "python",
   "pygments_lexer": "ipython3",
   "version": "3.13.1"
  }
 },
 "nbformat": 4,
 "nbformat_minor": 5
}
