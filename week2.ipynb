{
 "cells": [
  {
   "cell_type": "markdown",
   "id": "777a79cd",
   "metadata": {},
   "source": [
    "Soru 1 – Sayı Analizi\n",
    "\n",
    "Kullanıcıdan bir sayı isteyin.\n",
    "\n",
    "• Sayı pozitif, negatif ya da sıfır mı kontrol edin.\n",
    "\n",
    "• Aynı zamanda tek/çift olup olmadığını da belirtin.\n",
    "\n",
    "• Çıktı örneği: \"Pozitif Çift\" veya \"Negatif Tek\" gibi."
   ]
  },
  {
   "cell_type": "code",
   "execution_count": 33,
   "id": "dbd605cc",
   "metadata": {},
   "outputs": [
    {
     "name": "stdout",
     "output_type": "stream",
     "text": [
      "Negatif tek sayı\n"
     ]
    }
   ],
   "source": [
    "\n",
    "sayi =-9\n",
    "#sayi= int(input(\"Lütfen bir sayı giriniz: \")) \n",
    "if sayi % 2 == 0 and sayi < 0: \n",
    "    print(\"Negatif çift sayı\") \n",
    "elif sayi % 2 == 0 and sayi > 0: \n",
    "    print(\"Pozitif çift sayı\") \n",
    "elif sayi % 2 != 0 and sayi < 0: \n",
    "    print(\"Negatif tek sayı\") \n",
    "elif sayi % 2 != 0 and sayi > 0: \n",
    "    print(\"Pozitif tek sayı\") \n",
    "else: print(\"Sayı sıfırdır ya da tam sayı girilmedi.\")\n",
    "\n"
   ]
  },
  {
   "cell_type": "markdown",
   "id": "aabcb6b6",
   "metadata": {},
   "source": [
    "Soru 2 – Harf Frekansı (String)\n",
    "\n",
    "Kullanıcıdan bir kelime alın.\n",
    "\n",
    "• Hangi harften kaç tane geçtiğini bulun.\n",
    "\n",
    "• Sonucu dictionary olarak gösterin.\n",
    "\n",
    "Örnek: \"data\" → {'d': 1, 'a': 2, 't': 1}"
   ]
  },
  {
   "cell_type": "code",
   "execution_count": 34,
   "id": "3a38d938",
   "metadata": {},
   "outputs": [],
   "source": [
    "kelime= \"denizlili\"\n",
    "#kelime = input(\"Lütfen bir kelime giriniz: \")\n",
    "\n",
    "frekans = {}  \n",
    "\n",
    "for harf in kelime:\n",
    "    if harf in frekans:\n",
    "        frekans[harf] += 1\n",
    "    else:\n",
    "        frekans[harf] = 1\n",
    "\n"
   ]
  },
  {
   "cell_type": "code",
   "execution_count": 35,
   "id": "81be45b6",
   "metadata": {},
   "outputs": [
    {
     "data": {
      "text/plain": [
       "{'d': 1, 'e': 1, 'n': 1, 'i': 3, 'z': 1, 'l': 2}"
      ]
     },
     "execution_count": 35,
     "metadata": {},
     "output_type": "execute_result"
    }
   ],
   "source": [
    "frekans"
   ]
  },
  {
   "cell_type": "markdown",
   "id": "f29d4a28",
   "metadata": {},
   "source": [
    "Soru 3 – Şifre Kontrolü (String Metotları)\n",
    "Kullanıcıdan şifre girmesini isteyin. Şifre:\n",
    "• En az 8 karakter olmalı\n",
    "• En az 1 büyük harf içermeli\n",
    "• En az 1 rakam içermeli\n",
    "Koşulları sağlayıp sağlamadığına göre kullanıcıyı bilgilendirin.\n"
   ]
  },
  {
   "cell_type": "code",
   "execution_count": 36,
   "id": "f1445b8b",
   "metadata": {},
   "outputs": [
    {
     "name": "stdout",
     "output_type": "stream",
     "text": [
      "Şifre geçerli\n"
     ]
    }
   ],
   "source": [
    "password = \"fulyadenizli123A\"\n",
    "#password = input(\"Lütfen bir şifre giriniz: \")\n",
    "uzunluk = len(password) >= 8\n",
    "buyuk_harf = any(ch.isupper() for ch in password)\n",
    "rakam = any(ch.isdigit() for ch in password)\n",
    "\n",
    "if uzunluk and buyuk_harf and rakam:\n",
    "    print(\"Şifre geçerli\")\n",
    "else:\n",
    "    print(\"Şifre geçersiz\")\n",
    "    if not uzunluk:\n",
    "        print(\"En az 8 karakter olmalı\")\n",
    "    if not buyuk_harf:\n",
    "        print(\"En az 1 büyük harf içermeli\")\n",
    "    if not rakam:\n",
    "        print(\" En az 1 rakam içermeli\")"
   ]
  },
  {
   "cell_type": "markdown",
   "id": "3fb7dd03",
   "metadata": {},
   "source": [
    "Soru 4 – Liste İşlemleri\n",
    "[12, 4, 9, 25, 30, 7, 18] listesini kullanın.\n",
    "• Listenin ortalamasını bulun."
   ]
  },
  {
   "cell_type": "code",
   "execution_count": 37,
   "id": "c3036377",
   "metadata": {},
   "outputs": [],
   "source": [
    "liste = [12,4,9,25,30,7.18]\n",
    "\n",
    "ortalama = sum(liste) / len(liste)\n",
    "\n",
    "sonuc = {\"listenin ortalaması:\": round(ortalama, 2)}"
   ]
  },
  {
   "cell_type": "code",
   "execution_count": 38,
   "id": "544f3c93",
   "metadata": {},
   "outputs": [
    {
     "data": {
      "text/plain": [
       "{'listenin ortalaması:': 14.53}"
      ]
     },
     "execution_count": 38,
     "metadata": {},
     "output_type": "execute_result"
    }
   ],
   "source": [
    "sonuc"
   ]
  },
  {
   "cell_type": "markdown",
   "id": "2423c795",
   "metadata": {},
   "source": [
    "• Ortalamadan büyük sayıları ayrı bir listeye atın.\n",
    "• Sonucu ekrana yazdırın"
   ]
  },
  {
   "cell_type": "code",
   "execution_count": 39,
   "id": "be36c35c",
   "metadata": {},
   "outputs": [
    {
     "name": "stdout",
     "output_type": "stream",
     "text": [
      " ortalamadan büyük sayılar 25\n",
      " ortalamadan büyük sayılar 30\n"
     ]
    }
   ],
   "source": [
    "for i in liste:\n",
    "    if i > ortalama:\n",
    "        print(\" ortalamadan büyük sayılar\",i)"
   ]
  },
  {
   "cell_type": "markdown",
   "id": "0f2d95ef",
   "metadata": {},
   "source": [
    "Soru 5 – Nested Loop (Desen)\n",
    "Aşağıdaki çıktıyı üreten programı yazın (üçgen desen)\n"
   ]
  },
  {
   "cell_type": "code",
   "execution_count": 40,
   "id": "e59ef22e",
   "metadata": {},
   "outputs": [
    {
     "name": "stdout",
     "output_type": "stream",
     "text": [
      "*\n",
      "**\n",
      "***\n",
      "****\n",
      "*****\n"
     ]
    }
   ],
   "source": [
    "yildiz=5\n",
    "for i in range(1, yildiz + 1):\n",
    "    for j in range(i):\n",
    "        print(\"*\", end=\"\")\n",
    "    print()"
   ]
  },
  {
   "cell_type": "markdown",
   "id": "4870769f",
   "metadata": {},
   "source": [
    "Soru 6 – While Döngüsü\n",
    "Kullanıcıdan sürekli sayı isteyin.\n",
    "• Kullanıcı 0 girdiğinde program dursun.\n",
    "• Girilen tüm sayıların toplamını ve ortalamasını yazdırın."
   ]
  },
  {
   "cell_type": "code",
   "execution_count": null,
   "id": "744aac8a",
   "metadata": {},
   "outputs": [],
   "source": [
    "toplam = 0\n",
    "sayac = 0\n",
    "\n",
    "while True:\n",
    "    try:\n",
    "        sayi = int(input(\"Bir sayı girin (çıkmak için 0): \"))\n",
    "    except ValueError:\n",
    "        print(\"Lütfen geçerli bir sayı girin.\")\n",
    "        continue\n",
    "\n",
    "    if sayi == 0:\n",
    "        break\n",
    "    toplam += sayi\n",
    "    sayac += 1\n",
    "\n",
    "if sayac > 0:\n",
    "    ortalama = toplam / sayac\n",
    "    print(\"Toplam:\", toplam)\n",
    "    print(\"Ortalama:\", ortalama)\n",
    "else:\n",
    "    print(\"Hiç sayı girilmedi.\")\n"
   ]
  },
  {
   "cell_type": "markdown",
   "id": "147ab987",
   "metadata": {},
   "source": [
    "Soru 7 – Palindrom Kontrolü\n",
    "Kullanıcıdan bir kelime isteyin.\n",
    "• Kelimenin palindrom olup olmadığını kontrol edin."
   ]
  },
  {
   "cell_type": "code",
   "execution_count": null,
   "id": "0a10ebc2",
   "metadata": {},
   "outputs": [
    {
     "name": "stdout",
     "output_type": "stream",
     "text": [
      "'idea' bir palindrom değildir.\n"
     ]
    }
   ],
   "source": [
    "kelime = \"idea\"\n",
    "\n",
    "if kelime == kelime[::-1]:\n",
    "    print(f\"'{kelime}' bir palindromdur.\")\n",
    "else:\n",
    "    print(f\"'{kelime}' bir palindrom değildir.\")"
   ]
  },
  {
   "cell_type": "markdown",
   "id": "bb86a503",
   "metadata": {},
   "source": [
    "Soru 8 – List Comprehension\n",
    "1’den 100’e kadar olan sayılardan:\n",
    "• Hem 3’e hem 5’e bölünebilenlerin karelerini içeren bir liste oluşturun.\n",
    "• Sonucu ekrana yazdırın."
   ]
  },
  {
   "cell_type": "code",
   "execution_count": 49,
   "id": "1a5c00e2",
   "metadata": {},
   "outputs": [
    {
     "name": "stdout",
     "output_type": "stream",
     "text": [
      "[225, 900, 2025, 3600, 5625, 8100]\n"
     ]
    }
   ],
   "source": [
    "liste2 = range(1, 101)\n",
    "\n",
    "kareler = [i**2 for i in liste2 if i % 3 == 0 and i % 5 == 0]\n",
    "\n",
    "print(kareler)"
   ]
  },
  {
   "cell_type": "markdown",
   "id": "26030fb8",
   "metadata": {},
   "source": [
    "Soru 9 – String İşlemleri\n",
    "Bir cümle alın.\n",
    "• Cümledeki kelimeleri split() ile ayırın.\n",
    "• Her kelimenin ilk harfini büyük yaparak yeni bir string oluşturun.\n",
    "• Örnek: \"python veri bilimi\" → \"Python Veri Bilimi\"\n"
   ]
  },
  {
   "cell_type": "code",
   "execution_count": 50,
   "id": "7dc79a63",
   "metadata": {},
   "outputs": [
    {
     "name": "stdout",
     "output_type": "stream",
     "text": [
      "Odev Yapmak Çok Zaman Alici Ama Yararli Olduguna Inanmak Isterim.\n"
     ]
    }
   ],
   "source": [
    "ornek_cumle = \"odev yapmak çok zaman alici ama yararli olduguna inanmak isterim.\"\n",
    "kelimeler = ornek_cumle.split()\n",
    "kelimeler_buyuk = [kelime.capitalize() for kelime in kelimeler]\n",
    "yeni_cumle = \" \".join(kelimeler_buyuk)\n",
    "\n",
    "print(yeni_cumle)\n"
   ]
  },
  {
   "cell_type": "markdown",
   "id": "78947254",
   "metadata": {},
   "source": [
    "Mini Proje – Film Yorumu Analizi"
   ]
  },
  {
   "cell_type": "code",
   "execution_count": 56,
   "id": "e959fe76",
   "metadata": {},
   "outputs": [
    {
     "name": "stdout",
     "output_type": "stream",
     "text": [
      "['Film çok güzeldi', 'Kötüydü', 'Ortalama bir filmdi', 'Gerçekten çok iyi!', 'Film iyi ama daha iyi olabilirdi.']\n"
     ]
    }
   ],
   "source": [
    "yorum1=\"Film çok güzeldi\"\n",
    "yorum2=\"Kötüydü\"\n",
    "yorum3=\"Ortalama bir filmdi\"    \n",
    "yorum4=\"Gerçekten çok iyi!\"\n",
    "yorum5=\"Fİyi ama daha iyi olabilirdi.\"\n",
    "\n",
    "yorumlar = [\n",
    "    \"Film çok güzeldi\",\n",
    "    \"Kötüydü\",\n",
    "    \"Ortalama bir filmdi\",\n",
    "    \"Gerçekten çok iyi!\",\n",
    "    \"Film iyi ama daha iyi olabilirdi.\"\n",
    "]\n",
    "\n",
    "print(yorumlar)"
   ]
  },
  {
   "cell_type": "code",
   "execution_count": 57,
   "id": "70e38014",
   "metadata": {},
   "outputs": [
    {
     "data": {
      "text/plain": [
       "[16, 7, 19, 18, 33]"
      ]
     },
     "execution_count": 57,
     "metadata": {},
     "output_type": "execute_result"
    }
   ],
   "source": [
    "yorum_uzunluklari = [len(yorum) for yorum in yorumlar]\n",
    "yorum_uzunluklari"
   ]
  },
  {
   "cell_type": "code",
   "execution_count": 58,
   "id": "bb855a3c",
   "metadata": {},
   "outputs": [
    {
     "name": "stdout",
     "output_type": "stream",
     "text": [
      "'iyi' kelimesi 2 yorumda geçiyor.\n"
     ]
    }
   ],
   "source": [
    "sayac = sum(1 for yorum in yorumlar if \"iyi\" in yorum.lower())\n",
    "\n",
    "print(f\"'iyi' kelimesi {sayac} yorumda geçiyor.\")"
   ]
  },
  {
   "cell_type": "code",
   "execution_count": 59,
   "id": "ac0b42b8",
   "metadata": {},
   "outputs": [
    {
     "name": "stdout",
     "output_type": "stream",
     "text": [
      "En uzun yorum: Film iyi ama daha iyi olabilirdi.\n",
      "En kısa yorum: Kötüydü\n"
     ]
    }
   ],
   "source": [
    "en_uzun = max(yorumlar, key=len)\n",
    "en_kisa = min(yorumlar, key=len)\n",
    "\n",
    "print(\"En uzun yorum:\", en_uzun)\n",
    "print(\"En kısa yorum:\", en_kisa)"
   ]
  },
  {
   "cell_type": "code",
   "execution_count": 62,
   "id": "e089c87c",
   "metadata": {},
   "outputs": [
    {
     "name": "stdout",
     "output_type": "stream",
     "text": [
      "Tüm yorumların ortalama uzunluğu: 18.6\n"
     ]
    }
   ],
   "source": [
    "ortalama_uzunluk = sum(yorum_uzunluklari) / len(yorumlar)\n",
    "\n",
    "print(f\"Tüm yorumların ortalama uzunluğu: {ortalama_uzunluk}\")"
   ]
  }
 ],
 "metadata": {
  "kernelspec": {
   "display_name": "Python 3",
   "language": "python",
   "name": "python3"
  },
  "language_info": {
   "codemirror_mode": {
    "name": "ipython",
    "version": 3
   },
   "file_extension": ".py",
   "mimetype": "text/x-python",
   "name": "python",
   "nbconvert_exporter": "python",
   "pygments_lexer": "ipython3",
   "version": "3.13.1"
  }
 },
 "nbformat": 4,
 "nbformat_minor": 5
}
